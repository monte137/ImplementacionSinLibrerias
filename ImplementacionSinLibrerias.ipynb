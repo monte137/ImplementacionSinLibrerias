{
  "nbformat": 4,
  "nbformat_minor": 0,
  "metadata": {
    "colab": {
      "provenance": [],
      "authorship_tag": "ABX9TyPRn7RzlIt2OWYDXbaUDbq0",
      "include_colab_link": true
    },
    "kernelspec": {
      "name": "python3",
      "display_name": "Python 3"
    },
    "language_info": {
      "name": "python"
    }
  },
  "cells": [
    {
      "cell_type": "markdown",
      "metadata": {
        "id": "view-in-github",
        "colab_type": "text"
      },
      "source": [
        "<a href=\"https://colab.research.google.com/github/monte137/ImplementacionSinLibrerias/blob/main/ImplementacionSinLibrerias.ipynb\" target=\"_parent\"><img src=\"https://colab.research.google.com/assets/colab-badge.svg\" alt=\"Open In Colab\"/></a>"
      ]
    },
    {
      "cell_type": "markdown",
      "source": [
        "Se utilizará una base de datos de pacientes que han sufrido un derrame cerebral y otros que no. La finalidad es clasificar las caracteristicas para predecir correctamente si el paciente sufrio un derrame o no"
      ],
      "metadata": {
        "id": "kuGBDtV6XzrH"
      }
    },
    {
      "cell_type": "code",
      "source": [
        "import pandas as pd\n",
        "import numpy as np\n",
        "from google.colab import drive\n",
        "drive.mount('/content/drive')"
      ],
      "metadata": {
        "colab": {
          "base_uri": "https://localhost:8080/"
        },
        "id": "7JuYbjQrZSpG",
        "outputId": "5ea2560a-48fd-4236-cb02-9895802c83ce"
      },
      "execution_count": 4,
      "outputs": [
        {
          "output_type": "stream",
          "name": "stdout",
          "text": [
            "Mounted at /content/drive\n"
          ]
        }
      ]
    },
    {
      "cell_type": "code",
      "source": [
        "data= pd.read_csv('/content/drive/MyDrive/ConcentracionCienciaDeDatos/Modulo2/full_data.csv',index_col=False)\n",
        "data.head()"
      ],
      "metadata": {
        "colab": {
          "base_uri": "https://localhost:8080/",
          "height": 206
        },
        "id": "Cut-yvIBa7bX",
        "outputId": "22f0ad49-5914-481f-e279-5aa90b81c9bf"
      },
      "execution_count": 6,
      "outputs": [
        {
          "output_type": "execute_result",
          "data": {
            "text/plain": [
              "   gender   age  hypertension  heart_disease ever_married      work_type  \\\n",
              "0    Male  67.0             0              1          Yes        Private   \n",
              "1    Male  80.0             0              1          Yes        Private   \n",
              "2  Female  49.0             0              0          Yes        Private   \n",
              "3  Female  79.0             1              0          Yes  Self-employed   \n",
              "4    Male  81.0             0              0          Yes        Private   \n",
              "\n",
              "  Residence_type  avg_glucose_level   bmi   smoking_status  stroke  \n",
              "0          Urban             228.69  36.6  formerly smoked       1  \n",
              "1          Rural             105.92  32.5     never smoked       1  \n",
              "2          Urban             171.23  34.4           smokes       1  \n",
              "3          Rural             174.12  24.0     never smoked       1  \n",
              "4          Urban             186.21  29.0  formerly smoked       1  "
            ],
            "text/html": [
              "\n",
              "  <div id=\"df-5de44037-081b-420a-ba1c-9d0b818df09f\">\n",
              "    <div class=\"colab-df-container\">\n",
              "      <div>\n",
              "<style scoped>\n",
              "    .dataframe tbody tr th:only-of-type {\n",
              "        vertical-align: middle;\n",
              "    }\n",
              "\n",
              "    .dataframe tbody tr th {\n",
              "        vertical-align: top;\n",
              "    }\n",
              "\n",
              "    .dataframe thead th {\n",
              "        text-align: right;\n",
              "    }\n",
              "</style>\n",
              "<table border=\"1\" class=\"dataframe\">\n",
              "  <thead>\n",
              "    <tr style=\"text-align: right;\">\n",
              "      <th></th>\n",
              "      <th>gender</th>\n",
              "      <th>age</th>\n",
              "      <th>hypertension</th>\n",
              "      <th>heart_disease</th>\n",
              "      <th>ever_married</th>\n",
              "      <th>work_type</th>\n",
              "      <th>Residence_type</th>\n",
              "      <th>avg_glucose_level</th>\n",
              "      <th>bmi</th>\n",
              "      <th>smoking_status</th>\n",
              "      <th>stroke</th>\n",
              "    </tr>\n",
              "  </thead>\n",
              "  <tbody>\n",
              "    <tr>\n",
              "      <th>0</th>\n",
              "      <td>Male</td>\n",
              "      <td>67.0</td>\n",
              "      <td>0</td>\n",
              "      <td>1</td>\n",
              "      <td>Yes</td>\n",
              "      <td>Private</td>\n",
              "      <td>Urban</td>\n",
              "      <td>228.69</td>\n",
              "      <td>36.6</td>\n",
              "      <td>formerly smoked</td>\n",
              "      <td>1</td>\n",
              "    </tr>\n",
              "    <tr>\n",
              "      <th>1</th>\n",
              "      <td>Male</td>\n",
              "      <td>80.0</td>\n",
              "      <td>0</td>\n",
              "      <td>1</td>\n",
              "      <td>Yes</td>\n",
              "      <td>Private</td>\n",
              "      <td>Rural</td>\n",
              "      <td>105.92</td>\n",
              "      <td>32.5</td>\n",
              "      <td>never smoked</td>\n",
              "      <td>1</td>\n",
              "    </tr>\n",
              "    <tr>\n",
              "      <th>2</th>\n",
              "      <td>Female</td>\n",
              "      <td>49.0</td>\n",
              "      <td>0</td>\n",
              "      <td>0</td>\n",
              "      <td>Yes</td>\n",
              "      <td>Private</td>\n",
              "      <td>Urban</td>\n",
              "      <td>171.23</td>\n",
              "      <td>34.4</td>\n",
              "      <td>smokes</td>\n",
              "      <td>1</td>\n",
              "    </tr>\n",
              "    <tr>\n",
              "      <th>3</th>\n",
              "      <td>Female</td>\n",
              "      <td>79.0</td>\n",
              "      <td>1</td>\n",
              "      <td>0</td>\n",
              "      <td>Yes</td>\n",
              "      <td>Self-employed</td>\n",
              "      <td>Rural</td>\n",
              "      <td>174.12</td>\n",
              "      <td>24.0</td>\n",
              "      <td>never smoked</td>\n",
              "      <td>1</td>\n",
              "    </tr>\n",
              "    <tr>\n",
              "      <th>4</th>\n",
              "      <td>Male</td>\n",
              "      <td>81.0</td>\n",
              "      <td>0</td>\n",
              "      <td>0</td>\n",
              "      <td>Yes</td>\n",
              "      <td>Private</td>\n",
              "      <td>Urban</td>\n",
              "      <td>186.21</td>\n",
              "      <td>29.0</td>\n",
              "      <td>formerly smoked</td>\n",
              "      <td>1</td>\n",
              "    </tr>\n",
              "  </tbody>\n",
              "</table>\n",
              "</div>\n",
              "      <button class=\"colab-df-convert\" onclick=\"convertToInteractive('df-5de44037-081b-420a-ba1c-9d0b818df09f')\"\n",
              "              title=\"Convert this dataframe to an interactive table.\"\n",
              "              style=\"display:none;\">\n",
              "        \n",
              "  <svg xmlns=\"http://www.w3.org/2000/svg\" height=\"24px\"viewBox=\"0 0 24 24\"\n",
              "       width=\"24px\">\n",
              "    <path d=\"M0 0h24v24H0V0z\" fill=\"none\"/>\n",
              "    <path d=\"M18.56 5.44l.94 2.06.94-2.06 2.06-.94-2.06-.94-.94-2.06-.94 2.06-2.06.94zm-11 1L8.5 8.5l.94-2.06 2.06-.94-2.06-.94L8.5 2.5l-.94 2.06-2.06.94zm10 10l.94 2.06.94-2.06 2.06-.94-2.06-.94-.94-2.06-.94 2.06-2.06.94z\"/><path d=\"M17.41 7.96l-1.37-1.37c-.4-.4-.92-.59-1.43-.59-.52 0-1.04.2-1.43.59L10.3 9.45l-7.72 7.72c-.78.78-.78 2.05 0 2.83L4 21.41c.39.39.9.59 1.41.59.51 0 1.02-.2 1.41-.59l7.78-7.78 2.81-2.81c.8-.78.8-2.07 0-2.86zM5.41 20L4 18.59l7.72-7.72 1.47 1.35L5.41 20z\"/>\n",
              "  </svg>\n",
              "      </button>\n",
              "      \n",
              "  <style>\n",
              "    .colab-df-container {\n",
              "      display:flex;\n",
              "      flex-wrap:wrap;\n",
              "      gap: 12px;\n",
              "    }\n",
              "\n",
              "    .colab-df-convert {\n",
              "      background-color: #E8F0FE;\n",
              "      border: none;\n",
              "      border-radius: 50%;\n",
              "      cursor: pointer;\n",
              "      display: none;\n",
              "      fill: #1967D2;\n",
              "      height: 32px;\n",
              "      padding: 0 0 0 0;\n",
              "      width: 32px;\n",
              "    }\n",
              "\n",
              "    .colab-df-convert:hover {\n",
              "      background-color: #E2EBFA;\n",
              "      box-shadow: 0px 1px 2px rgba(60, 64, 67, 0.3), 0px 1px 3px 1px rgba(60, 64, 67, 0.15);\n",
              "      fill: #174EA6;\n",
              "    }\n",
              "\n",
              "    [theme=dark] .colab-df-convert {\n",
              "      background-color: #3B4455;\n",
              "      fill: #D2E3FC;\n",
              "    }\n",
              "\n",
              "    [theme=dark] .colab-df-convert:hover {\n",
              "      background-color: #434B5C;\n",
              "      box-shadow: 0px 1px 3px 1px rgba(0, 0, 0, 0.15);\n",
              "      filter: drop-shadow(0px 1px 2px rgba(0, 0, 0, 0.3));\n",
              "      fill: #FFFFFF;\n",
              "    }\n",
              "  </style>\n",
              "\n",
              "      <script>\n",
              "        const buttonEl =\n",
              "          document.querySelector('#df-5de44037-081b-420a-ba1c-9d0b818df09f button.colab-df-convert');\n",
              "        buttonEl.style.display =\n",
              "          google.colab.kernel.accessAllowed ? 'block' : 'none';\n",
              "\n",
              "        async function convertToInteractive(key) {\n",
              "          const element = document.querySelector('#df-5de44037-081b-420a-ba1c-9d0b818df09f');\n",
              "          const dataTable =\n",
              "            await google.colab.kernel.invokeFunction('convertToInteractive',\n",
              "                                                     [key], {});\n",
              "          if (!dataTable) return;\n",
              "\n",
              "          const docLinkHtml = 'Like what you see? Visit the ' +\n",
              "            '<a target=\"_blank\" href=https://colab.research.google.com/notebooks/data_table.ipynb>data table notebook</a>'\n",
              "            + ' to learn more about interactive tables.';\n",
              "          element.innerHTML = '';\n",
              "          dataTable['output_type'] = 'display_data';\n",
              "          await google.colab.output.renderOutput(dataTable, element);\n",
              "          const docLink = document.createElement('div');\n",
              "          docLink.innerHTML = docLinkHtml;\n",
              "          element.appendChild(docLink);\n",
              "        }\n",
              "      </script>\n",
              "    </div>\n",
              "  </div>\n",
              "  "
            ]
          },
          "metadata": {},
          "execution_count": 6
        }
      ]
    },
    {
      "cell_type": "markdown",
      "source": [
        "Modelo"
      ],
      "metadata": {
        "id": "ATjSOuyBemxX"
      }
    },
    {
      "cell_type": "code",
      "source": [
        "clean= {'gender': {'Male': 0,'Female':1},'ever_married':{'Yes':1,'No':0},'Residence_type':{'Urban':1,'Rural':0},'smoking_status':{'smokes':2,'formerly smoked':1,'never smoked':0,'Unknown':0}}\n",
        "data= data.replace(clean)"
      ],
      "metadata": {
        "id": "HJ4BiZeFen4h"
      },
      "execution_count": 12,
      "outputs": []
    },
    {
      "cell_type": "code",
      "source": [
        "dx= data[['hypertension','heart_disease','smoking_status']].values\n",
        "dy= data['stroke'].values\n",
        "dx=dx[:300]\n",
        "dy=dy[:300]"
      ],
      "metadata": {
        "id": "DhWIqgd4j5ON"
      },
      "execution_count": 13,
      "outputs": []
    },
    {
      "cell_type": "markdown",
      "source": [
        "Regresion logistica, utilizando notacion matricial para la tecnica de gradiente descendiente.\n",
        "W=[w1,w2,...,wm] 1xm \\\\\n",
        "El vector w es el contiene nuestros pesos para cada x, en clase visto como los pesos θ. \\\\\n",
        "B= cte \\\\\n",
        "Visto en clase como θ cero \\\\\n",
        "X= [Matriz] nxm \\\\\n",
        "Y= [Vector] nx1 \\\n",
        "Considerando nuestra funcion log-loss vista en clase, los terminos para el gradiente descendiente quedarian:\n",
        "\n",
        "$W= W - α dW^T$ donde: \\\\\n",
        "$dW= (A-Y) X^T$ \\\\\n",
        "$A= σ(W^T *X +B)$\\\\\n",
        "\n",
        "$B= B - α dB$\n"
      ],
      "metadata": {
        "id": "2nnjeIXlJFAB"
      }
    },
    {
      "cell_type": "code",
      "source": [
        "def sigmoide(X):\n",
        "  return 1/(1+np.exp(-X))\n",
        "\n",
        "ite= 100000\n",
        "alpha=.008\n",
        "\n",
        "dx=dx.T\n",
        "dy= dy.reshape(1,dx.shape[1])\n",
        "m=dx.shape[1]\n",
        "n=dx.shape[0]\n",
        "\n",
        "W= np.zeros((n,1))\n",
        "B= 0\n",
        "for i in range(ite):\n",
        "  S= np.dot(W.T, dx ) + B\n",
        "  A= sigmoide(S)\n",
        "\n",
        "  logloss= -(1/m)*np.sum(dy* np.log(A) + (1-dy) *np.log(1-A))\n",
        "\n",
        "  dW= (1/m)*np.dot(A-dy,dx.T)\n",
        "  dB= (1/m)*np.sum(A-dy)\n",
        "\n",
        "  W= W-alpha*dW.T \n",
        "  B= B-alpha*dB\n",
        "\n",
        "  if (i%(ite/10)==0):\n",
        "    print('Costo despues de',i, 'iteraciones, es:',logloss)\n"
      ],
      "metadata": {
        "id": "6zq9wViELFyk",
        "colab": {
          "base_uri": "https://localhost:8080/"
        },
        "outputId": "1c3986e3-de80-4f04-9f1d-f54dd66fe3d3"
      },
      "execution_count": 14,
      "outputs": [
        {
          "output_type": "stream",
          "name": "stdout",
          "text": [
            "Costo despues de 0 iteraciones, es: 0.6931471805599453\n",
            "Costo despues de 10000 iteraciones, es: 0.5709928027810194\n",
            "Costo despues de 20000 iteraciones, es: 0.569641436777377\n",
            "Costo despues de 30000 iteraciones, es: 0.569530574665546\n",
            "Costo despues de 40000 iteraciones, es: 0.5695189930758259\n",
            "Costo despues de 50000 iteraciones, es: 0.569517664803008\n",
            "Costo despues de 60000 iteraciones, es: 0.5695175071241038\n",
            "Costo despues de 70000 iteraciones, es: 0.5695174881766706\n",
            "Costo despues de 80000 iteraciones, es: 0.5695174858902491\n",
            "Costo despues de 90000 iteraciones, es: 0.5695174856139442\n"
          ]
        }
      ]
    },
    {
      "cell_type": "markdown",
      "source": [
        "Calculo de exactitud del modelo."
      ],
      "metadata": {
        "id": "HKnS-eP30wgy"
      }
    },
    {
      "cell_type": "code",
      "source": [
        "Z= np.dot(W.T,dx) + B\n",
        "A= sigmoide(Z)\n",
        "\n",
        "A= A>.5\n",
        "\n",
        "A= np.array(A,dtype= 'int64')\n",
        "\n",
        "prec= (1 - np.sum(np.absolute(A-dy))/dy.shape[1])\n",
        "prec"
      ],
      "metadata": {
        "id": "bEe9e4ACOQyX",
        "colab": {
          "base_uri": "https://localhost:8080/"
        },
        "outputId": "3804ad45-2a92-48f8-9360-f7fac8a31e8f"
      },
      "execution_count": 16,
      "outputs": [
        {
          "output_type": "execute_result",
          "data": {
            "text/plain": [
              "0.6933333333333334"
            ]
          },
          "metadata": {},
          "execution_count": 16
        }
      ]
    },
    {
      "cell_type": "markdown",
      "source": [
        "Se obtiene un exactitud media de .69333, la cual considerando la implementación podría mejorar cambiando el método de optimización utilizado."
      ],
      "metadata": {
        "id": "VBiFDD2V1aRy"
      }
    }
  ]
}